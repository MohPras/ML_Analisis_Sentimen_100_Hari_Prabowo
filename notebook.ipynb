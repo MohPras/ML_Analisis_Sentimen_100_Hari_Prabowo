{
 "cells": [
  {
   "cell_type": "markdown",
   "metadata": {},
   "source": [
    "# Analisis Sentimen #100HariPrabowoGibran"
   ]
  },
  {
   "cell_type": "markdown",
   "metadata": {},
   "source": [
    "## Data Wrangling"
   ]
  },
  {
   "cell_type": "markdown",
   "metadata": {},
   "source": [
    "### Import Library"
   ]
  },
  {
   "cell_type": "code",
   "execution_count": 2,
   "metadata": {},
   "outputs": [],
   "source": [
    "import pandas as pd\n",
    "import numpy as np\n",
    "import seaborn as sns\n",
    "import matplotlib.pyplot as plt"
   ]
  },
  {
   "cell_type": "markdown",
   "metadata": {},
   "source": [
    "### Data Gathering"
   ]
  },
  {
   "cell_type": "code",
   "execution_count": 3,
   "metadata": {},
   "outputs": [
    {
     "data": {
      "text/html": [
       "<div>\n",
       "<style scoped>\n",
       "    .dataframe tbody tr th:only-of-type {\n",
       "        vertical-align: middle;\n",
       "    }\n",
       "\n",
       "    .dataframe tbody tr th {\n",
       "        vertical-align: top;\n",
       "    }\n",
       "\n",
       "    .dataframe thead th {\n",
       "        text-align: right;\n",
       "    }\n",
       "</style>\n",
       "<table border=\"1\" class=\"dataframe\">\n",
       "  <thead>\n",
       "    <tr style=\"text-align: right;\">\n",
       "      <th></th>\n",
       "      <th>video_id</th>\n",
       "      <th>username</th>\n",
       "      <th>comment</th>\n",
       "      <th>like_count</th>\n",
       "      <th>published_at</th>\n",
       "      <th>reply_count</th>\n",
       "    </tr>\n",
       "  </thead>\n",
       "  <tbody>\n",
       "    <tr>\n",
       "      <th>0</th>\n",
       "      <td>FZdQNw1AhZM</td>\n",
       "      <td>@arielaja4331</td>\n",
       "      <td>selama nafas masih ada dan sehat jasmani  kita...</td>\n",
       "      <td>0</td>\n",
       "      <td>2025-04-13T17:25:55Z</td>\n",
       "      <td>0</td>\n",
       "    </tr>\n",
       "    <tr>\n",
       "      <th>1</th>\n",
       "      <td>FZdQNw1AhZM</td>\n",
       "      <td>@syafarudin9810</td>\n",
       "      <td>Percaya dengan pengkhianat .perdy. tapi sutralah</td>\n",
       "      <td>0</td>\n",
       "      <td>2025-04-13T09:12:08Z</td>\n",
       "      <td>0</td>\n",
       "    </tr>\n",
       "    <tr>\n",
       "      <th>2</th>\n",
       "      <td>FZdQNw1AhZM</td>\n",
       "      <td>@cholielabiby78</td>\n",
       "      <td>Hargailh\\nBeliau sekarang pemimpin kita</td>\n",
       "      <td>0</td>\n",
       "      <td>2025-04-12T17:40:42Z</td>\n",
       "      <td>0</td>\n",
       "    </tr>\n",
       "    <tr>\n",
       "      <th>3</th>\n",
       "      <td>FZdQNw1AhZM</td>\n",
       "      <td>@sutar3076</td>\n",
       "      <td>Ini media Pembenci. Mengapa ingin tenar harus ...</td>\n",
       "      <td>0</td>\n",
       "      <td>2025-04-12T06:02:11Z</td>\n",
       "      <td>0</td>\n",
       "    </tr>\n",
       "    <tr>\n",
       "      <th>4</th>\n",
       "      <td>FZdQNw1AhZM</td>\n",
       "      <td>@ramasulamto8841</td>\n",
       "      <td>Ah media antek asing</td>\n",
       "      <td>0</td>\n",
       "      <td>2025-04-10T17:12:38Z</td>\n",
       "      <td>0</td>\n",
       "    </tr>\n",
       "  </tbody>\n",
       "</table>\n",
       "</div>"
      ],
      "text/plain": [
       "      video_id          username  \\\n",
       "0  FZdQNw1AhZM     @arielaja4331   \n",
       "1  FZdQNw1AhZM   @syafarudin9810   \n",
       "2  FZdQNw1AhZM   @cholielabiby78   \n",
       "3  FZdQNw1AhZM        @sutar3076   \n",
       "4  FZdQNw1AhZM  @ramasulamto8841   \n",
       "\n",
       "                                             comment  like_count  \\\n",
       "0  selama nafas masih ada dan sehat jasmani  kita...           0   \n",
       "1   Percaya dengan pengkhianat .perdy. tapi sutralah           0   \n",
       "2            Hargailh\\nBeliau sekarang pemimpin kita           0   \n",
       "3  Ini media Pembenci. Mengapa ingin tenar harus ...           0   \n",
       "4                               Ah media antek asing           0   \n",
       "\n",
       "           published_at  reply_count  \n",
       "0  2025-04-13T17:25:55Z            0  \n",
       "1  2025-04-13T09:12:08Z            0  \n",
       "2  2025-04-12T17:40:42Z            0  \n",
       "3  2025-04-12T06:02:11Z            0  \n",
       "4  2025-04-10T17:12:38Z            0  "
      ]
     },
     "execution_count": 3,
     "metadata": {},
     "output_type": "execute_result"
    }
   ],
   "source": [
    "# data loading\n",
    "df = pd.read_csv('100-Hari-Prabowo-Gibran.csv')\n",
    "df.head()"
   ]
  },
  {
   "cell_type": "markdown",
   "metadata": {},
   "source": [
    "### Data Asessing"
   ]
  },
  {
   "cell_type": "code",
   "execution_count": 4,
   "metadata": {},
   "outputs": [
    {
     "name": "stdout",
     "output_type": "stream",
     "text": [
      "<class 'pandas.core.frame.DataFrame'>\n",
      "RangeIndex: 6093 entries, 0 to 6092\n",
      "Data columns (total 6 columns):\n",
      " #   Column        Non-Null Count  Dtype \n",
      "---  ------        --------------  ----- \n",
      " 0   video_id      6093 non-null   object\n",
      " 1   username      6091 non-null   object\n",
      " 2   comment       6092 non-null   object\n",
      " 3   like_count    6093 non-null   int64 \n",
      " 4   published_at  6093 non-null   object\n",
      " 5   reply_count   6093 non-null   int64 \n",
      "dtypes: int64(2), object(4)\n",
      "memory usage: 285.7+ KB\n"
     ]
    }
   ],
   "source": [
    "# cek info data\n",
    "df.info()"
   ]
  },
  {
   "cell_type": "code",
   "execution_count": 5,
   "metadata": {},
   "outputs": [
    {
     "data": {
      "text/plain": [
       "video_id        0\n",
       "username        2\n",
       "comment         1\n",
       "like_count      0\n",
       "published_at    0\n",
       "reply_count     0\n",
       "dtype: int64"
      ]
     },
     "execution_count": 5,
     "metadata": {},
     "output_type": "execute_result"
    }
   ],
   "source": [
    "# cek missing value\n",
    "df.isna().sum()"
   ]
  },
  {
   "cell_type": "code",
   "execution_count": 6,
   "metadata": {},
   "outputs": [
    {
     "name": "stdout",
     "output_type": "stream",
     "text": [
      "Duplikasi data ada:  0\n"
     ]
    }
   ],
   "source": [
    "# cek duplikasi data\n",
    "print(\"Duplikasi data ada: \", df.duplicated().sum())"
   ]
  },
  {
   "cell_type": "code",
   "execution_count": 7,
   "metadata": {},
   "outputs": [
    {
     "data": {
      "text/html": [
       "<div>\n",
       "<style scoped>\n",
       "    .dataframe tbody tr th:only-of-type {\n",
       "        vertical-align: middle;\n",
       "    }\n",
       "\n",
       "    .dataframe tbody tr th {\n",
       "        vertical-align: top;\n",
       "    }\n",
       "\n",
       "    .dataframe thead th {\n",
       "        text-align: right;\n",
       "    }\n",
       "</style>\n",
       "<table border=\"1\" class=\"dataframe\">\n",
       "  <thead>\n",
       "    <tr style=\"text-align: right;\">\n",
       "      <th></th>\n",
       "      <th>like_count</th>\n",
       "      <th>reply_count</th>\n",
       "    </tr>\n",
       "  </thead>\n",
       "  <tbody>\n",
       "    <tr>\n",
       "      <th>count</th>\n",
       "      <td>6093.000000</td>\n",
       "      <td>6093.000000</td>\n",
       "    </tr>\n",
       "    <tr>\n",
       "      <th>mean</th>\n",
       "      <td>4.820942</td>\n",
       "      <td>0.300016</td>\n",
       "    </tr>\n",
       "    <tr>\n",
       "      <th>std</th>\n",
       "      <td>52.035053</td>\n",
       "      <td>3.150565</td>\n",
       "    </tr>\n",
       "    <tr>\n",
       "      <th>min</th>\n",
       "      <td>0.000000</td>\n",
       "      <td>0.000000</td>\n",
       "    </tr>\n",
       "    <tr>\n",
       "      <th>25%</th>\n",
       "      <td>0.000000</td>\n",
       "      <td>0.000000</td>\n",
       "    </tr>\n",
       "    <tr>\n",
       "      <th>50%</th>\n",
       "      <td>0.000000</td>\n",
       "      <td>0.000000</td>\n",
       "    </tr>\n",
       "    <tr>\n",
       "      <th>75%</th>\n",
       "      <td>0.000000</td>\n",
       "      <td>0.000000</td>\n",
       "    </tr>\n",
       "    <tr>\n",
       "      <th>max</th>\n",
       "      <td>1905.000000</td>\n",
       "      <td>89.000000</td>\n",
       "    </tr>\n",
       "  </tbody>\n",
       "</table>\n",
       "</div>"
      ],
      "text/plain": [
       "        like_count  reply_count\n",
       "count  6093.000000  6093.000000\n",
       "mean      4.820942     0.300016\n",
       "std      52.035053     3.150565\n",
       "min       0.000000     0.000000\n",
       "25%       0.000000     0.000000\n",
       "50%       0.000000     0.000000\n",
       "75%       0.000000     0.000000\n",
       "max    1905.000000    89.000000"
      ]
     },
     "execution_count": 7,
     "metadata": {},
     "output_type": "execute_result"
    }
   ],
   "source": [
    "# cek statistik data numerik\n",
    "df.describe()"
   ]
  },
  {
   "cell_type": "markdown",
   "metadata": {},
   "source": [
    "### Data Cleaning"
   ]
  }
 ],
 "metadata": {
  "kernelspec": {
   "display_name": "venv_file",
   "language": "python",
   "name": "python3"
  },
  "language_info": {
   "codemirror_mode": {
    "name": "ipython",
    "version": 3
   },
   "file_extension": ".py",
   "mimetype": "text/x-python",
   "name": "python",
   "nbconvert_exporter": "python",
   "pygments_lexer": "ipython3",
   "version": "3.11.11"
  }
 },
 "nbformat": 4,
 "nbformat_minor": 2
}
